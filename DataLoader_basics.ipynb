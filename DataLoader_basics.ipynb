{
  "nbformat": 4,
  "nbformat_minor": 0,
  "metadata": {
    "colab": {
      "provenance": [],
      "authorship_tag": "ABX9TyOPFcexD9sWAICw+GHbGZMJ",
      "include_colab_link": true
    },
    "kernelspec": {
      "name": "python3",
      "display_name": "Python 3"
    },
    "language_info": {
      "name": "python"
    }
  },
  "cells": [
    {
      "cell_type": "markdown",
      "metadata": {
        "id": "view-in-github",
        "colab_type": "text"
      },
      "source": [
        "<a href=\"https://colab.research.google.com/github/bharaniakella/Deep_work/blob/main/DataLoader_basics.ipynb\" target=\"_parent\"><img src=\"https://colab.research.google.com/assets/colab-badge.svg\" alt=\"Open In Colab\"/></a>"
      ]
    },
    {
      "cell_type": "code",
      "execution_count": 5,
      "metadata": {
        "id": "B98uazdwbz4j"
      },
      "outputs": [],
      "source": [
        "import numpy as np\n",
        "import torch\n",
        "import torch.nn as nn\n",
        "from torch.utils.data import DataLoader"
      ]
    },
    {
      "cell_type": "code",
      "source": [
        "from torch.utils.data import TensorDataset"
      ],
      "metadata": {
        "id": "_o_bEzeVcMKJ"
      },
      "execution_count": 6,
      "outputs": []
    },
    {
      "cell_type": "code",
      "source": [
        "# import dataset\n",
        "import pandas as pd\n",
        "iris = pd.read_csv('https://raw.githubusercontent.com/mwaskom/seaborn-data/master/iris.csv')\n",
        "\n",
        "\n",
        "# convert from pandas dataframe to tensor\n",
        "irisdata = torch.tensor( iris[iris.columns[0:4]].values ).float()\n",
        "\n",
        "# transform species to number\n",
        "irislabels = torch.zeros(len(irisdata), dtype=torch.long)\n",
        "# labels[iris.species=='setosa'] = 0 # don't need!\n",
        "irislabels[iris.species=='versicolor'] = 1\n",
        "irislabels[iris.species=='virginica'] = 2"
      ],
      "metadata": {
        "id": "B5LESlZUcXUf"
      },
      "execution_count": 7,
      "outputs": []
    },
    {
      "cell_type": "code",
      "source": [
        "# create our fake dataset\n",
        "\n",
        "fakedata = np.tile(np.array([1,2,3,4]),(10,1)) + np.tile(10*np.arange(1,11),(4,1)).T\n",
        "fakelabels = np.arange(10)>4\n",
        "print(fakedata), print(' ')\n",
        "print(fakelabels)"
      ],
      "metadata": {
        "colab": {
          "base_uri": "https://localhost:8080/"
        },
        "id": "nMnzzTv_cZ92",
        "outputId": "ebe732ff-0995-4c7c-92a7-9f11f8bd486d"
      },
      "execution_count": 8,
      "outputs": [
        {
          "output_type": "stream",
          "name": "stdout",
          "text": [
            "[[ 11  12  13  14]\n",
            " [ 21  22  23  24]\n",
            " [ 31  32  33  34]\n",
            " [ 41  42  43  44]\n",
            " [ 51  52  53  54]\n",
            " [ 61  62  63  64]\n",
            " [ 71  72  73  74]\n",
            " [ 81  82  83  84]\n",
            " [ 91  92  93  94]\n",
            " [101 102 103 104]]\n",
            " \n",
            "[False False False False False  True  True  True  True  True]\n"
          ]
        }
      ]
    },
    {
      "cell_type": "code",
      "source": [
        "fake_dataLoad=DataLoader(fakedata,shuffle=True,batch_size=2)\n",
        "print(fake_dataLoad)"
      ],
      "metadata": {
        "colab": {
          "base_uri": "https://localhost:8080/"
        },
        "id": "VJEo1yVzccUb",
        "outputId": "56f9f476-6354-4cb5-f5a0-77dfa07519ae"
      },
      "execution_count": 9,
      "outputs": [
        {
          "output_type": "stream",
          "name": "stdout",
          "text": [
            "<torch.utils.data.dataloader.DataLoader object at 0x7c6dafe5fee0>\n"
          ]
        }
      ]
    },
    {
      "cell_type": "code",
      "source": [
        "fake_dataLoad.batch_size"
      ],
      "metadata": {
        "colab": {
          "base_uri": "https://localhost:8080/"
        },
        "id": "P4pUdfp_cvOG",
        "outputId": "ccd0a7f3-5582-43ab-f27c-ef9adfdf9ed7"
      },
      "execution_count": 10,
      "outputs": [
        {
          "output_type": "execute_result",
          "data": {
            "text/plain": [
              "2"
            ]
          },
          "metadata": {},
          "execution_count": 10
        }
      ]
    },
    {
      "cell_type": "code",
      "source": [
        "for i,data in enumerate(fake_dataLoad):\n",
        "  print(i,data)"
      ],
      "metadata": {
        "colab": {
          "base_uri": "https://localhost:8080/"
        },
        "id": "ZPWMetrrc47H",
        "outputId": "69f3be5a-5832-4f95-cf95-73f8fcf302eb"
      },
      "execution_count": 11,
      "outputs": [
        {
          "output_type": "stream",
          "name": "stdout",
          "text": [
            "0 tensor([[41, 42, 43, 44],\n",
            "        [21, 22, 23, 24]])\n",
            "1 tensor([[81, 82, 83, 84],\n",
            "        [51, 52, 53, 54]])\n",
            "2 tensor([[101, 102, 103, 104],\n",
            "        [ 31,  32,  33,  34]])\n",
            "3 tensor([[71, 72, 73, 74],\n",
            "        [91, 92, 93, 94]])\n",
            "4 tensor([[11, 12, 13, 14],\n",
            "        [61, 62, 63, 64]])\n"
          ]
        }
      ]
    },
    {
      "cell_type": "code",
      "source": [
        "fd_ten=torch.tensor(fakedata)\n",
        "fl_ten=torch.tensor(fakelabels)"
      ],
      "metadata": {
        "id": "RA4RK7IjfonN"
      },
      "execution_count": 12,
      "outputs": []
    },
    {
      "cell_type": "code",
      "source": [
        "tdf=TensorDataset(fd_ten,fl_ten)\n",
        "tdf"
      ],
      "metadata": {
        "colab": {
          "base_uri": "https://localhost:8080/"
        },
        "id": "NaNM__0lgBZe",
        "outputId": "bf90fe88-972b-4ce4-b920-908cacf1761d"
      },
      "execution_count": 13,
      "outputs": [
        {
          "output_type": "execute_result",
          "data": {
            "text/plain": [
              "<torch.utils.data.dataset.TensorDataset at 0x7c6dafe5fc40>"
            ]
          },
          "metadata": {},
          "execution_count": 13
        }
      ]
    },
    {
      "cell_type": "code",
      "source": [
        "for dat,lab in tdf:\n",
        "  print(dat,lab)"
      ],
      "metadata": {
        "colab": {
          "base_uri": "https://localhost:8080/"
        },
        "id": "UsjOY3thgHJB",
        "outputId": "a147333b-eb5a-401e-d801-ce2710172e42"
      },
      "execution_count": 14,
      "outputs": [
        {
          "output_type": "stream",
          "name": "stdout",
          "text": [
            "tensor([11, 12, 13, 14]) tensor(False)\n",
            "tensor([21, 22, 23, 24]) tensor(False)\n",
            "tensor([31, 32, 33, 34]) tensor(False)\n",
            "tensor([41, 42, 43, 44]) tensor(False)\n",
            "tensor([51, 52, 53, 54]) tensor(False)\n",
            "tensor([61, 62, 63, 64]) tensor(True)\n",
            "tensor([71, 72, 73, 74]) tensor(True)\n",
            "tensor([81, 82, 83, 84]) tensor(True)\n",
            "tensor([91, 92, 93, 94]) tensor(True)\n",
            "tensor([101, 102, 103, 104]) tensor(True)\n"
          ]
        }
      ]
    },
    {
      "cell_type": "code",
      "source": [
        "dlf=DataLoader(tdf,shuffle=True,batch_size=2)"
      ],
      "metadata": {
        "id": "b6_1yYFxgQI1"
      },
      "execution_count": 15,
      "outputs": []
    },
    {
      "cell_type": "code",
      "source": [
        "for dat, lab in dlf:\n",
        "  print(dat,lab)"
      ],
      "metadata": {
        "colab": {
          "base_uri": "https://localhost:8080/"
        },
        "id": "6PVH41Cyglij",
        "outputId": "599eba9f-dbe3-4989-e84c-82c78dd2d6f1"
      },
      "execution_count": 16,
      "outputs": [
        {
          "output_type": "stream",
          "name": "stdout",
          "text": [
            "tensor([[91, 92, 93, 94],\n",
            "        [41, 42, 43, 44]]) tensor([ True, False])\n",
            "tensor([[21, 22, 23, 24],\n",
            "        [71, 72, 73, 74]]) tensor([False,  True])\n",
            "tensor([[51, 52, 53, 54],\n",
            "        [31, 32, 33, 34]]) tensor([False, False])\n",
            "tensor([[ 61,  62,  63,  64],\n",
            "        [101, 102, 103, 104]]) tensor([True, True])\n",
            "tensor([[11, 12, 13, 14],\n",
            "        [81, 82, 83, 84]]) tensor([False,  True])\n"
          ]
        }
      ]
    },
    {
      "cell_type": "code",
      "source": [
        "from sklearn.model_selection import train_test_split"
      ],
      "metadata": {
        "id": "l_vjsU9zguF-"
      },
      "execution_count": 17,
      "outputs": []
    },
    {
      "cell_type": "code",
      "source": [
        "train_data,test_data,train_labels,test_labels=train_test_split(fakedata,fakelabels,test_size=0.2)\n"
      ],
      "metadata": {
        "id": "4GRukRpehLed"
      },
      "execution_count": 18,
      "outputs": []
    },
    {
      "cell_type": "code",
      "source": [
        "train_data=TensorDataset(torch.tensor(train_data),torch.tensor(train_labels))\n",
        "test_data=TensorDataset(torch.tensor(test_data),torch.tensor(test_labels))"
      ],
      "metadata": {
        "id": "bQi1y_uchciH"
      },
      "execution_count": 19,
      "outputs": []
    },
    {
      "cell_type": "code",
      "source": [
        "train_dl=DataLoader(train_data,shuffle=True,batch_size=2)"
      ],
      "metadata": {
        "id": "_61CqRdPhdjT"
      },
      "execution_count": 20,
      "outputs": []
    },
    {
      "cell_type": "code",
      "source": [
        "for dat,lab in train_dl:\n",
        "  print(dat,lab)"
      ],
      "metadata": {
        "colab": {
          "base_uri": "https://localhost:8080/"
        },
        "id": "zqJADUwBiGXv",
        "outputId": "24648dfc-4c4b-4ac8-fe0a-d29c14b107bd"
      },
      "execution_count": 21,
      "outputs": [
        {
          "output_type": "stream",
          "name": "stdout",
          "text": [
            "tensor([[81, 82, 83, 84],\n",
            "        [11, 12, 13, 14]]) tensor([ True, False])\n",
            "tensor([[41, 42, 43, 44],\n",
            "        [21, 22, 23, 24]]) tensor([False, False])\n",
            "tensor([[61, 62, 63, 64],\n",
            "        [51, 52, 53, 54]]) tensor([ True, False])\n",
            "tensor([[31, 32, 33, 34],\n",
            "        [71, 72, 73, 74]]) tensor([False,  True])\n"
          ]
        }
      ]
    },
    {
      "cell_type": "code",
      "source": [
        "#Heading to Iris dataset"
      ],
      "metadata": {
        "id": "hv8H7uoNi-si"
      },
      "execution_count": 22,
      "outputs": []
    },
    {
      "cell_type": "code",
      "source": [
        "train_data,test_data,train_labels,test_labels=train_test_split(irisdata,irislabels,test_size=0.2)"
      ],
      "metadata": {
        "id": "yx01O0F8jKXi"
      },
      "execution_count": 23,
      "outputs": []
    },
    {
      "cell_type": "code",
      "source": [
        "train_data=TensorDataset(train_data,train_labels)\n",
        "test_data=TensorDataset(test_data,test_labels)"
      ],
      "metadata": {
        "id": "2akQj6mKjWxE"
      },
      "execution_count": 24,
      "outputs": []
    },
    {
      "cell_type": "code",
      "source": [
        "test_data.tensors[0].shape[0]"
      ],
      "metadata": {
        "colab": {
          "base_uri": "https://localhost:8080/"
        },
        "id": "HSaFTmUGkmVi",
        "outputId": "cfcd527b-5e73-4d42-859c-cf89d78beca0"
      },
      "execution_count": 25,
      "outputs": [
        {
          "output_type": "execute_result",
          "data": {
            "text/plain": [
              "30"
            ]
          },
          "metadata": {},
          "execution_count": 25
        }
      ]
    },
    {
      "cell_type": "code",
      "source": [
        "train_dl=DataLoader(train_data,shuffle=True,batch_size=12)\n",
        "test_dl=DataLoader(test_data,shuffle=True,batch_size=test_data.tensors[0].shape[0])"
      ],
      "metadata": {
        "id": "-woj1BKjkTfg"
      },
      "execution_count": 26,
      "outputs": []
    },
    {
      "cell_type": "code",
      "source": [
        "def create_model():\n",
        "  ann_dl=nn.Sequential(\n",
        "      nn.Linear(4,64),\n",
        "      nn.ReLU(),\n",
        "      nn.Linear(64,64),\n",
        "      nn.ReLU(),\n",
        "      nn.Linear(64,3)\n",
        "  )\n",
        "\n",
        "  lr=0.05\n",
        "  loss_fun=nn.CrossEntropyLoss()\n",
        "  optimizer=torch.optim.SGD(ann_dl.parameters(),lr=lr)\n",
        "  return ann_dl,loss_fun,optimizer"
      ],
      "metadata": {
        "id": "VtqLGhvMlaMM"
      },
      "execution_count": 27,
      "outputs": []
    },
    {
      "cell_type": "code",
      "source": [
        "num_epochs=1000\n",
        "def train_model():\n",
        "  train_acc=[]\n",
        "  test_acc=[]\n",
        "  for epochi in range(num_epochs):\n",
        "\n",
        "\n",
        "    batch_acc=[]\n",
        "    for dat,lab in train_dl:\n",
        "\n",
        "      yhat=ann_dl(dat)\n",
        "      loss=loss_fun(yhat,lab)\n",
        "\n",
        "      optimizer.zero_grad()\n",
        "      loss.backward()\n",
        "      optimizer.step()\n",
        "\n",
        "      batch_acc.append(100*torch.mean((torch.argmax(yhat,axis=1)==lab).float()).item())\n",
        "\n",
        "    train_acc.append(np.mean(batch_acc))\n",
        "\n",
        "    x,y=next(iter(test_dl))\n",
        "    pred=ann_dl(x)\n",
        "    loss=loss_fun(pred,y)\n",
        "    test_acc.append(100*torch.mean((torch.argmax(pred,axis=1)==y).float()).item())\n",
        "\n",
        "  return train_acc, test_acc\n"
      ],
      "metadata": {
        "id": "zlqXgbkemGi8"
      },
      "execution_count": 32,
      "outputs": []
    },
    {
      "cell_type": "code",
      "source": [
        "ann_dl,loss_fun,optimizer=create_model()\n",
        "train_acc, test_acc=train_model()"
      ],
      "metadata": {
        "id": "EHvoe-L6qe9N"
      },
      "execution_count": 33,
      "outputs": []
    },
    {
      "cell_type": "code",
      "source": [
        "from matplotlib import pyplot as plt\n",
        "plt.plot(train_acc,'o-')\n",
        "plt.plot(test_acc,'o-')\n",
        "plt.show()"
      ],
      "metadata": {
        "colab": {
          "base_uri": "https://localhost:8080/",
          "height": 430
        },
        "id": "7fO5_FguqpJv",
        "outputId": "05a7fd3b-c7c8-4a4a-c45e-51a9b9e919a8"
      },
      "execution_count": 34,
      "outputs": [
        {
          "output_type": "display_data",
          "data": {
            "text/plain": [
              "<Figure size 640x480 with 1 Axes>"
            ],
            "image/png": "[encoded data removed]"
          },
          "metadata": {}
        }
      ]
    },
    {
      "cell_type": "code",
      "source": [],
      "metadata": {
        "id": "u-q_stjRrEK1"
      },
      "execution_count": 31,
      "outputs": []
    }
  ]
}